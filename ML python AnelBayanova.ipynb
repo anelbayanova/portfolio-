{
 "cells": [
  {
   "cell_type": "markdown",
   "id": "f00dac6c",
   "metadata": {},
   "source": [
    "# Прогнозирование цены"
   ]
  },
  {
   "cell_type": "markdown",
   "id": "c2087389",
   "metadata": {},
   "source": [
    "### Задача\n",
    "Целевая переменная — `price`. У вас есть 7 атрибутов, и, очевидно, мы хотим, чтобы вы построили некую модель машинного обучения, которая прогнозирует цены.\n",
    "\n",
    "1. Проведите первоначальный анализ данных, который укажет на то, как связаны атрибуты.\n",
    "2. Используйте некоторые ML модели и кратко объясните свой выбор.\n",
    "3. Покажите точность вашей модели и прокомментируйте результаты.\n",
    "4. Представьте нам результаты и шаги, которые вы предприняли, а также некоторые критические размышления."
   ]
  },
  {
   "cell_type": "markdown",
   "id": "88cfe8db",
   "metadata": {},
   "source": [
    "### Описание данных\n",
    "Данные представлены в файле `sample.csv`."
   ]
  },
  {
   "cell_type": "markdown",
   "id": "b1071d95",
   "metadata": {},
   "source": [
    "### Комментарии\n",
    "\n",
    "Определите, обучите и оцените прогнозирующую модель, которая принимает в качестве входных данных предоставленные данные. По вашему усмотрению вы можете разделить данные на наборы для обучения, тестирования. Вы можете использовать любой алгоритм по вашему выбору или сравнить несколько моделей.\n",
    "\n",
    "Убедитесь, что решение отражает весь ваш мыслительный процесс (для каждой ячейки кода оставляйте комментарии, иначе мы не поймем, что вы хотели сделать)\n",
    "\n",
    "### Что мы точно хотим увидеть в вашей работе?\n",
    "\n",
    "1. **Обработка данных**: Это критически важный первый шаг, который включает в себя очистку данных, обработку пропущенных значений и преобразование категориальных данных в числовой формат. Эффективная обработка данных может значительно улучшить качество модели.\n",
    "\n",
    "2. **Feature Selection (Выбор признаков)**: Отбор признаков, которые наиболее сильно коррелируют с целевой переменной, позволяет сократить размерность данных без значительной потери информации, что упрощает модель и может улучшить её производительность.\n",
    "\n",
    "3. **Проверка всех подходящих моделей**: Тестирование различных моделей и оценка их производительности на тренировочных и тестовых данных по критериям MSE (Mean Squared Error) и R2 позволяют выбрать наиболее подходящую модель для задачи.\n",
    "\n",
    "4. **GridSearchCV для выбора гиперпараметров**: Использование GridSearchCV для автоматического перебора комбинаций гиперпараметров и выбора лучшего набора значений помогает оптимизировать модель.\n",
    "\n",
    "5. **Использование StandardScaler и MinMaxScaler**: Масштабирование признаков с помощью StandardScaler (преобразование данных к стандартному нормальному распределению) и MinMaxScaler (масштабирование данных в заданный диапазон) может быть полезно для некоторых алгоритмов, чтобы улучшить их производительность, особенно для тех, которые чувствительны к масштабу признаков, как, например, методы, основанные на градиентном спуске.\n",
    "\n",
    "Этот процесс является итеративным и может требовать нескольких проходов с корректировкой подхода на основе полученных результатов, чтобы достигнуть оптимальной производительности модели."
   ]
  },
  {
   "cell_type": "code",
   "execution_count": 48,
   "id": "d26f3a7c-be67-440d-9d3d-c61eadef9b47",
   "metadata": {},
   "outputs": [],
   "source": [
    "import pandas as pd\n",
    "import numpy as np\n",
    "import matplotlib.pyplot as plt\n",
    "import seaborn as sns\n",
    "\n",
    "from sklearn.model_selection import train_test_split\n",
    "from sklearn.preprocessing import StandardScaler\n",
    "from sklearn.linear_model import LinearRegression\n",
    "from sklearn.ensemble import RandomForestRegressor\n",
    "from sklearn.metrics import mean_squared_error, r2_score\n",
    "from sklearn.model_selection import GridSearchCV"
   ]
  },
  {
   "cell_type": "code",
   "execution_count": 49,
   "id": "6191d14f",
   "metadata": {},
   "outputs": [],
   "source": [
    "data = pd.read_csv('sample.csv')"
   ]
  },
  {
   "cell_type": "code",
   "execution_count": 50,
   "id": "8208c0c8-c50d-4bf4-831d-05bd31699cb8",
   "metadata": {},
   "outputs": [
    {
     "data": {
      "text/html": [
       "<div>\n",
       "<style scoped>\n",
       "    .dataframe tbody tr th:only-of-type {\n",
       "        vertical-align: middle;\n",
       "    }\n",
       "\n",
       "    .dataframe tbody tr th {\n",
       "        vertical-align: top;\n",
       "    }\n",
       "\n",
       "    .dataframe thead th {\n",
       "        text-align: right;\n",
       "    }\n",
       "</style>\n",
       "<table border=\"1\" class=\"dataframe\">\n",
       "  <thead>\n",
       "    <tr style=\"text-align: right;\">\n",
       "      <th></th>\n",
       "      <th>loc1</th>\n",
       "      <th>loc2</th>\n",
       "      <th>para1</th>\n",
       "      <th>dow</th>\n",
       "      <th>para2</th>\n",
       "      <th>para3</th>\n",
       "      <th>para4</th>\n",
       "      <th>price</th>\n",
       "    </tr>\n",
       "  </thead>\n",
       "  <tbody>\n",
       "    <tr>\n",
       "      <th>0</th>\n",
       "      <td>0</td>\n",
       "      <td>01</td>\n",
       "      <td>1</td>\n",
       "      <td>Mon</td>\n",
       "      <td>662</td>\n",
       "      <td>3000.0</td>\n",
       "      <td>3.8</td>\n",
       "      <td>73.49</td>\n",
       "    </tr>\n",
       "    <tr>\n",
       "      <th>1</th>\n",
       "      <td>9</td>\n",
       "      <td>99</td>\n",
       "      <td>1</td>\n",
       "      <td>Thu</td>\n",
       "      <td>340</td>\n",
       "      <td>2760.0</td>\n",
       "      <td>9.2</td>\n",
       "      <td>300.00</td>\n",
       "    </tr>\n",
       "    <tr>\n",
       "      <th>2</th>\n",
       "      <td>0</td>\n",
       "      <td>04</td>\n",
       "      <td>0</td>\n",
       "      <td>Mon</td>\n",
       "      <td>16</td>\n",
       "      <td>2700.0</td>\n",
       "      <td>3.0</td>\n",
       "      <td>130.00</td>\n",
       "    </tr>\n",
       "    <tr>\n",
       "      <th>3</th>\n",
       "      <td>4</td>\n",
       "      <td>40</td>\n",
       "      <td>1</td>\n",
       "      <td>Mon</td>\n",
       "      <td>17</td>\n",
       "      <td>12320.0</td>\n",
       "      <td>6.4</td>\n",
       "      <td>365.00</td>\n",
       "    </tr>\n",
       "    <tr>\n",
       "      <th>4</th>\n",
       "      <td>5</td>\n",
       "      <td>50</td>\n",
       "      <td>1</td>\n",
       "      <td>Thu</td>\n",
       "      <td>610</td>\n",
       "      <td>2117.0</td>\n",
       "      <td>10.8</td>\n",
       "      <td>357.50</td>\n",
       "    </tr>\n",
       "  </tbody>\n",
       "</table>\n",
       "</div>"
      ],
      "text/plain": [
       "  loc1 loc2  para1  dow  para2    para3  para4   price\n",
       "0    0   01      1  Mon    662   3000.0    3.8   73.49\n",
       "1    9   99      1  Thu    340   2760.0    9.2  300.00\n",
       "2    0   04      0  Mon     16   2700.0    3.0  130.00\n",
       "3    4   40      1  Mon     17  12320.0    6.4  365.00\n",
       "4    5   50      1  Thu    610   2117.0   10.8  357.50"
      ]
     },
     "execution_count": 50,
     "metadata": {},
     "output_type": "execute_result"
    }
   ],
   "source": [
    "data.head()"
   ]
  },
  {
   "cell_type": "code",
   "execution_count": 51,
   "id": "3adb1391-5fc0-4e0b-b8e3-a85ef940ce9f",
   "metadata": {},
   "outputs": [
    {
     "data": {
      "text/html": [
       "<div>\n",
       "<style scoped>\n",
       "    .dataframe tbody tr th:only-of-type {\n",
       "        vertical-align: middle;\n",
       "    }\n",
       "\n",
       "    .dataframe tbody tr th {\n",
       "        vertical-align: top;\n",
       "    }\n",
       "\n",
       "    .dataframe thead th {\n",
       "        text-align: right;\n",
       "    }\n",
       "</style>\n",
       "<table border=\"1\" class=\"dataframe\">\n",
       "  <thead>\n",
       "    <tr style=\"text-align: right;\">\n",
       "      <th></th>\n",
       "      <th>para1</th>\n",
       "      <th>para2</th>\n",
       "      <th>para3</th>\n",
       "      <th>para4</th>\n",
       "      <th>price</th>\n",
       "    </tr>\n",
       "  </thead>\n",
       "  <tbody>\n",
       "    <tr>\n",
       "      <th>count</th>\n",
       "      <td>10000.000000</td>\n",
       "      <td>10000.000000</td>\n",
       "      <td>10000.000000</td>\n",
       "      <td>10000.000000</td>\n",
       "      <td>10000.000000</td>\n",
       "    </tr>\n",
       "    <tr>\n",
       "      <th>mean</th>\n",
       "      <td>1.380800</td>\n",
       "      <td>447.384000</td>\n",
       "      <td>9547.989920</td>\n",
       "      <td>8.459522</td>\n",
       "      <td>433.733056</td>\n",
       "    </tr>\n",
       "    <tr>\n",
       "      <th>std</th>\n",
       "      <td>3.500831</td>\n",
       "      <td>221.005861</td>\n",
       "      <td>8022.814037</td>\n",
       "      <td>4.613526</td>\n",
       "      <td>277.435947</td>\n",
       "    </tr>\n",
       "    <tr>\n",
       "      <th>min</th>\n",
       "      <td>0.000000</td>\n",
       "      <td>16.000000</td>\n",
       "      <td>200.000000</td>\n",
       "      <td>1.000000</td>\n",
       "      <td>50.730000</td>\n",
       "    </tr>\n",
       "    <tr>\n",
       "      <th>25%</th>\n",
       "      <td>1.000000</td>\n",
       "      <td>301.000000</td>\n",
       "      <td>2898.000000</td>\n",
       "      <td>4.000000</td>\n",
       "      <td>250.000000</td>\n",
       "    </tr>\n",
       "    <tr>\n",
       "      <th>50%</th>\n",
       "      <td>1.000000</td>\n",
       "      <td>434.000000</td>\n",
       "      <td>6447.000000</td>\n",
       "      <td>7.200000</td>\n",
       "      <td>370.000000</td>\n",
       "    </tr>\n",
       "    <tr>\n",
       "      <th>75%</th>\n",
       "      <td>1.000000</td>\n",
       "      <td>582.000000</td>\n",
       "      <td>15000.000000</td>\n",
       "      <td>13.600000</td>\n",
       "      <td>550.000000</td>\n",
       "    </tr>\n",
       "    <tr>\n",
       "      <th>max</th>\n",
       "      <td>337.000000</td>\n",
       "      <td>2554.000000</td>\n",
       "      <td>34782.000000</td>\n",
       "      <td>27.200000</td>\n",
       "      <td>5700.000000</td>\n",
       "    </tr>\n",
       "  </tbody>\n",
       "</table>\n",
       "</div>"
      ],
      "text/plain": [
       "              para1         para2         para3         para4         price\n",
       "count  10000.000000  10000.000000  10000.000000  10000.000000  10000.000000\n",
       "mean       1.380800    447.384000   9547.989920      8.459522    433.733056\n",
       "std        3.500831    221.005861   8022.814037      4.613526    277.435947\n",
       "min        0.000000     16.000000    200.000000      1.000000     50.730000\n",
       "25%        1.000000    301.000000   2898.000000      4.000000    250.000000\n",
       "50%        1.000000    434.000000   6447.000000      7.200000    370.000000\n",
       "75%        1.000000    582.000000  15000.000000     13.600000    550.000000\n",
       "max      337.000000   2554.000000  34782.000000     27.200000   5700.000000"
      ]
     },
     "execution_count": 51,
     "metadata": {},
     "output_type": "execute_result"
    }
   ],
   "source": [
    "data.describe()"
   ]
  },
  {
   "cell_type": "code",
   "execution_count": 52,
   "id": "59f44eab-ff30-4d2c-90ad-ea91843bff06",
   "metadata": {},
   "outputs": [
    {
     "name": "stdout",
     "output_type": "stream",
     "text": [
      "<class 'pandas.core.frame.DataFrame'>\n",
      "RangeIndex: 10000 entries, 0 to 9999\n",
      "Data columns (total 8 columns):\n",
      " #   Column  Non-Null Count  Dtype  \n",
      "---  ------  --------------  -----  \n",
      " 0   loc1    10000 non-null  object \n",
      " 1   loc2    10000 non-null  object \n",
      " 2   para1   10000 non-null  int64  \n",
      " 3   dow     10000 non-null  object \n",
      " 4   para2   10000 non-null  int64  \n",
      " 5   para3   10000 non-null  float64\n",
      " 6   para4   10000 non-null  float64\n",
      " 7   price   10000 non-null  float64\n",
      "dtypes: float64(3), int64(2), object(3)\n",
      "memory usage: 625.1+ KB\n"
     ]
    }
   ],
   "source": [
    "data.info()"
   ]
  },
  {
   "cell_type": "code",
   "execution_count": 53,
   "id": "b9cf140e-d8ba-4cf0-9d7f-405e95f275a9",
   "metadata": {},
   "outputs": [
    {
     "name": "stdout",
     "output_type": "stream",
     "text": [
      "loc1     0\n",
      "loc2     0\n",
      "para1    0\n",
      "dow      0\n",
      "para2    0\n",
      "para3    0\n",
      "para4    0\n",
      "price    0\n",
      "dtype: int64\n"
     ]
    }
   ],
   "source": [
    "print(data.isnull().sum())"
   ]
  },
  {
   "cell_type": "code",
   "execution_count": 54,
   "id": "879ee3fc-cb32-4e6e-bded-ffd5185697a1",
   "metadata": {},
   "outputs": [],
   "source": [
    "data.dropna(inplace=True)"
   ]
  },
  {
   "cell_type": "code",
   "execution_count": 55,
   "id": "bf498cb1-78fe-4cc1-9543-865cd01d9fff",
   "metadata": {},
   "outputs": [
    {
     "data": {
      "text/plain": [
       "(10000, 8)"
      ]
     },
     "execution_count": 55,
     "metadata": {},
     "output_type": "execute_result"
    }
   ],
   "source": [
    "data.shape"
   ]
  },
  {
   "cell_type": "code",
   "execution_count": 56,
   "id": "e4dc95de-d35b-4b0b-b426-58e7d640a1a2",
   "metadata": {},
   "outputs": [
    {
     "data": {
      "text/plain": [
       "loc1      object\n",
       "loc2      object\n",
       "para1      int64\n",
       "dow       object\n",
       "para2      int64\n",
       "para3    float64\n",
       "para4    float64\n",
       "price    float64\n",
       "dtype: object"
      ]
     },
     "execution_count": 56,
     "metadata": {},
     "output_type": "execute_result"
    }
   ],
   "source": [
    "data.dtypes"
   ]
  },
  {
   "cell_type": "code",
   "execution_count": 57,
   "id": "10c53020-fd3f-4fb8-bdba-0fbbdbfd2507",
   "metadata": {},
   "outputs": [
    {
     "name": "stdout",
     "output_type": "stream",
     "text": [
      "loc1 : ['0' '9' '4' '5' '7' '8' '1' '3' '2' '6' 'S' 'T']\n",
      "loc2 : ['01' '99' '04' '40' '50' '03' '09' '74' '89' '17' '34' '30' '21' '59'\n",
      " '28' '64' '14' '46' '19' '15' '90' '67' '85' '24' '12' '20' '23' '08'\n",
      " '06' '95' '37' '77' '73' '88' '66' '39' '41' '68' '47' '33' '35' '78'\n",
      " '54' '76' '51' '79' '16' '02' '29' '57' '45' '80' '31' '70' '22' '27'\n",
      " '87' '53' '75' '38' '26' '25' '63' '86' '97' '81' '13' '49' '32' '72'\n",
      " '71' '10' '94' '96' '93' '42' '48' '55' '91' '58' '60' '44' '52' '05'\n",
      " '36' '82' '56' '84' '65' '07' '92' '83' '18' '69' '98' '62' '00' '61'\n",
      " '0B' 'S6' '43' '0T' 'TS' '0L' '11' '0C' '0N']\n",
      "para1 : [  1   0   4   3   2   5  24   7   6  13   9   8 337]\n",
      "dow : ['Mon' 'Thu' 'Tue' 'Wed' 'Fri' 'Sat' 'Sun']\n",
      "para2 : [ 662  340   16 ...   41 1490  880]\n",
      "para3 : [3000. 2760. 2700. ...  957. 8856.  336.]\n",
      "para4 : [ 3.8   9.2   3.    6.4  10.8  13.6   4.5  13.2   6.    2.7   5.    6.8\n",
      "  5.2   4.    4.8   5.1   1.6   8.8  12.8   5.6   2.67  2.8   5.5  11.2\n",
      "  7.   11.6   4.4   5.25  4.6   8.   12.    4.3   3.6   2.5  10.   15.4\n",
      "  4.53  3.3   1.    9.6   7.6   2.    3.2   2.4   3.5   5.4   1.2   2.1\n",
      " 10.4   6.5  13.5   3.4   1.5  14.    9.    1.1   5.9   8.5   6.2   7.2\n",
      "  3.7   6.24 12.4   3.9   8.6   8.4   2.25 13.    4.55 24.8  26.4   4.36\n",
      " 10.6  12.46  6.1   2.72  4.95  6.6   9.8  10.2   4.1   5.28  5.05  4.2\n",
      "  6.9   2.92 19.2  13.4  10.09 15.1   1.7   4.7  16.4   2.6  21.2   9.5\n",
      " 18.   15.    3.84 25.6   7.5   8.9   5.8  10.5   5.3   7.8   1.4   7.4\n",
      "  7.13  1.8   2.33  2.47  4.25  3.25 12.3   3.85  6.3   1.67  7.7  19.6\n",
      " 18.35 17.6   1.33 11.   14.32 23.2  21.6   1.25 11.9  10.7   2.3   3.1\n",
      " 20.    6.7   1.9   2.9  27.2  14.4   8.26 13.3  17.2  10.25 13.33  3.62\n",
      "  9.4   8.1  12.6   2.27  2.66 10.3   4.9  11.5   1.3   3.75  4.15  5.7\n",
      "  8.3   7.9   3.11  9.75  6.44 16.8   2.26  2.2   4.82 10.1  20.8   6.83\n",
      "  6.51 15.6  13.1   4.33 10.45  6.25  3.33  1.16 11.3   3.15  1.46 14.8\n",
      " 11.33 16.   22.4   7.65  5.96  2.86  8.7  12.5   9.35  8.55 13.9   7.45\n",
      "  8.2   9.25  1.85  9.7   6.67 26.    6.88 24.    6.55  3.67 18.8  11.05\n",
      "  4.93  1.35 22.8  12.1   7.42  1.01  2.54  9.65  3.32  1.75  9.3   4.09\n",
      "  4.45  5.09 13.19 14.2  12.2   7.1   3.05 13.28  2.84  5.67  6.33  2.55\n",
      "  7.62  2.57  8.15  6.63  5.95  2.75  6.85  7.3   8.25  6.94  2.05  2.36\n",
      "  1.87  2.58  9.1 ]\n",
      "price : [  73.49  300.    130.    365.    357.5   550.    210.    366.67  193.33\n",
      " 1400.    510.    400.    800.   2200.    360.    180.    380.    250.\n",
      "  350.    370.    310.    216.72  690.    236.67  500.    641.88  367.\n",
      "  295.    540.    900.    560.    395.    125.    525.    960.    183.93\n",
      "  240.    330.    880.    850.    200.    470.    300.84  275.    375.\n",
      "  650.    430.    320.    750.    183.33  390.    745.    845.    100.\n",
      "  450.    445.    520.    315.31  150.    610.    187.5   730.    585.\n",
      "  925.    950.    290.    820.    345.   1500.    485.    175.    930.\n",
      "  600.    460.    296.67 1000.    590.     91.67  410.    595.    385.\n",
      "  270.    700.    433.33  670.    325.    580.    480.    157.5   233.33\n",
      "  173.33   78.93  720.    280.    333.33   70.    166.67  570.    475.\n",
      "  185.    714.     86.67   90.    620.    115.99  260.    780.    189.63\n",
      "  160.    220.   1700.    230.    177.89  293.33  289.5   170.    302.\n",
      "  534.04  725.    402.    315.    176.67  680.   1140.    222.65  206.\n",
      "  487.5  1300.    506.67  190.    507.1   630.    420.    285.    225.\n",
      "  668.57 1750.    266.67 1200.    186.67  174.    196.67  340.    227.5\n",
      "  293.15  362.    425.   1730.    440.    265.    235.    397.5    96.\n",
      "  416.67  900.11  276.67  387.88  217.04   66.64  240.76  415.    212.5\n",
      "  760.    137.5   490.   1031.66  198.33  312.68  140.    343.33  287.5\n",
      "  345.13  197.5   215.    393.33  715.   1100.    112.5  2350.    305.\n",
      "  246.67  120.    255.    387.5  1350.    206.67   83.33   99.68  392.\n",
      "  660.    885.    205.    216.67  865.     68.18  167.5   910.    266.45\n",
      "  179.43  170.87  980.    195.    234.81  640.    240.57   60.    269.77\n",
      "  283.33 1450.    237.47  165.    277.98  398.43  232.66  133.33  290.28\n",
      "  303.33  299.22  272.5   335.    253.01  405.    427.5   153.33 1600.\n",
      "  483.33  362.65  294.6   484.   1270.    177.5   530.   1288.84  226.67\n",
      "  115.    223.3   214.04   63.62  435.    474.25  394.    521.29  127.5\n",
      "  740.    693.33  146.67  162.5  1050.    142.5   113.12  192.92  875.\n",
      "  273.33  675.    795.    215.75  710.    790.    100.5    80.    129.28\n",
      "  282.02  840.    323.33  810.    783.36  437.5   166.25  191.22  256.67\n",
      "  422.88  460.84  192.5   209.72  575.    111.33 1120.    455.    317.17\n",
      "  165.46  355.    296.    259.5    75.     93.07  316.67  195.12  114.55\n",
      "  342.    116.67  146.    237.08  271.48  870.    396.04 1680.    678.\n",
      "  800.82  117.82  223.75  150.24  695.    399.43  970.    262.4   319.32\n",
      "  515.    990.    625.    495.    199.56  237.7   528.    145.    465.\n",
      "  442.68  703.2   138.76  830.    223.33  313.33  119.08  535.    232.5\n",
      " 1150.    193.64  618.09  555.36  225.41  890.    127.06  102.48 1250.\n",
      "  243.33  347.5   246.7    83.43  944.09  475.39  108.33  246.09 3800.\n",
      "  770.    412.5   775.   2900.    680.58  217.12  307.5   110.    623.76\n",
      " 3170.    262.5   214.5   105.    297.19  832.2  1080.    380.46  366.26\n",
      "  326.69  726.04  156.67  237.5  2500.    263.33 1530.    217.5  2780.\n",
      "  106.57  491.74  765.    142.93  141.67 3500.    166.53  333.5   605.59\n",
      "  362.5   196.    164.25  291.95  387.64  276.24  245.    298.2   380.26\n",
      "  842.35  215.34  297.55  292.5   318.25  461.98   78.75  238.33   65.13\n",
      "  203.33  927.99  135.    494.     77.55 1650.    825.   1950.    815.61\n",
      "  253.04  362.07  198.   1070.    152.5   628.09  186.56  513.95  262.\n",
      "  582.73  735.    146.95  679.48  362.82   93.33  122.5   172.47  444.47\n",
      "  874.12  305.66  913.26  145.9   136.67  415.51  225.69 1125.    492.5\n",
      "  229.73  778.21  694.    128.33   95.59  123.33  352.62  225.88 1538.55\n",
      "  299.    526.67   74.29  236.32  143.33  366.59  247.    291.07  154.6\n",
      "  785.     51.92  278.53  152.25  171.52  525.56  429.59  666.    645.\n",
      "  207.5   415.35  156.18  117.5   545.    735.8   860.    107.59  409.97\n",
      "  883.59  470.47  326.67  484.27  126.67  119.2   317.31  817.5   635.\n",
      "  163.07  148.63 2100.    473.33  175.68  206.25  426.67  542.66  331.67\n",
      "  143.14  305.5    99.8   397.58  110.43  288.93  539.58  868.7   318.21\n",
      " 1420.    155.    253.33  192.86  616.    403.6   308.9   565.    290.06\n",
      "  407.86  430.83  324.32  418.78 1800.    334.37 1330.    788.    404.58\n",
      "  181.36  534.48  653.65  915.    577.24 2330.   1550.   3080.     57.72\n",
      "  310.05 2650.    204.    332.5   228.63  236.3   297.5   257.5   672.41\n",
      "  286.06  209.12  213.86  895.    244.75   89.74  386.94  349.04  236.86\n",
      "  566.67  485.45  528.85  356.67  433.05  230.3   257.92  556.84   86.05\n",
      "   50.73  663.06  380.85  398.53 1850.    686.     79.41  141.8   545.56\n",
      "  768.89  821.13  213.33  295.28   91.2   121.55  234.24  534.85  380.34\n",
      "   50.88  308.22  161.67  142.38  225.78  366.2   308.4   449.96  999.99\n",
      "  965.    231.4  2000.   1030.    379.63  161.16 1135.32  122.86  482.62\n",
      "  920.    364.    253.65 1880.    498.06  172.3   508.46 1890.    283.41\n",
      "  219.16  188.    694.32   77.74  317.5  1570.   1365.    230.18  653.58\n",
      "  665.    489.5   346.13  312.5   935.    247.5   428.83   74.58  350.74\n",
      "  390.27  763.33  505.    416.66  477.13  248.87  132.5   625.61  262.66\n",
      "  264.85  126.    280.91  630.7   343.24  390.14  350.51  253.94  148.31\n",
      "  242.5   255.25  449.64 1180.   1320.    301.64  175.33   85.     61.71\n",
      "  511.45  104.76  664.   2300.    185.35 1325.    751.53  278.19  649.78\n",
      "  261.67  337.5   693.     86.    233.41  334.    194.    115.54  130.73\n",
      "  442.52  513.84  120.27  589.68  112.17  786.27 1340.    103.09  358.66\n",
      "  250.9   392.5   533.33  271.37  367.5   249.3   901.46  261.36  331.09\n",
      "  221.24  148.5   204.06  270.89  246.62  286.67  163.99  426.36  475.44\n",
      "   93.42  222.    192.    281.29  353.33   71.45  304.88 3590.     89.14\n",
      "  227.08  383.33  174.37  164.   1160.    124.    278.33  406.67  975.\n",
      "  417.5   366.3   554.15  363.23  382.    101.39  143.12  185.06  161.47\n",
      "  336.43  352.5  4600.    381.04  306.67  420.57 2850.    221.33 1433.33\n",
      "  233.31   71.7   755.    250.28  318.69  188.52 1370.    248.72   89.09\n",
      "  684.    340.1   212.55  220.8   417.82  135.14  279.59  394.05  271.49\n",
      "  345.39  239.64  153.87  336.85  788.4   140.5   102.5   732.82  165.36\n",
      "  401.97 1775.   1063.47  184.    696.5   290.49  488.44  605.    431.29\n",
      " 1900.     54.33 1170.   3050.    403.3   268.8   245.1    80.01  542.83\n",
      "  120.41  541.57  241.67  812.35 5700.    940.    347.     76.67  653.28\n",
      "  170.99  398.59  123.32  167.94  218.55  170.09  114.93  211.13 1220.\n",
      "   84.73  177.65   61.03  660.74  302.69  234.21  638.61  373.33   77.67\n",
      "  231.9   336.82  476.65  170.75  179.42  657.53  342.84  288.33  201.6\n",
      "  147.5   243.24  340.91  174.71  145.91 1560.    141.6   583.77  331.62\n",
      "  214.    302.52  258.8   651.73  302.49  136.08  378.13  500.04  820.25\n",
      "  116.    257.    218.58   52.3   581.42  352.9   181.86  543.84  267.5\n",
      "  515.64  715.62  241.42  323.97  319.    469.24   67.48   86.94  282.5\n",
      "  462.32   75.12  584.91  352.    222.5    81.5    62.5   493.77 1260.\n",
      "  320.9   601.67  234.67 1020.    384.69  307.88  212.93  186.34   66.67\n",
      "  163.33  318.39  566.35  313.66  438.13  857.65  489.86 1690.    149.84\n",
      "  666.67  659.5   303.46  121.9   311.54  140.9   185.74 1110.    724.61\n",
      "  285.35  464.65  562.4   919.87  351.    178.33   52.48  348.98   66.2\n",
      "  181.58  482.54  257.23   78.18 1725.    983.33  411.69   87.56  432.5\n",
      "  496.    239.39  302.5   372.    279.51   64.12  179.   2070.    281.52\n",
      "   86.24 1670.    180.61  147.53 1475.    288.98  133.26   67.    555.\n",
      "  527.87 3550.    188.17 1040.   1535.    949.51  114.    364.07  132.71\n",
      "  473.69  187.52  618.38  136.    327.5   126.3   322.85  228.33  170.58\n",
      "  357.    620.92  192.31  104.    307.92]\n"
     ]
    }
   ],
   "source": [
    "for column in data.columns:\n",
    "    print(column, \":\", data[column].unique())"
   ]
  },
  {
   "cell_type": "code",
   "execution_count": 58,
   "id": "ec961914-4d85-4b87-83ef-3658c9191367",
   "metadata": {},
   "outputs": [
    {
     "data": {
      "text/plain": [
       "loc1\n",
       "2    1607\n",
       "0    1486\n",
       "1    1223\n",
       "7    1081\n",
       "3     945\n",
       "5     846\n",
       "4     773\n",
       "8     727\n",
       "9     690\n",
       "6     620\n",
       "S       1\n",
       "T       1\n",
       "Name: count, dtype: int64"
      ]
     },
     "execution_count": 58,
     "metadata": {},
     "output_type": "execute_result"
    }
   ],
   "source": [
    "data['loc1'].value_counts()"
   ]
  },
  {
   "cell_type": "code",
   "execution_count": 59,
   "id": "7d2d22f1-a426-457f-af5c-dc5b25f23201",
   "metadata": {},
   "outputs": [],
   "source": [
    "data = data[(data['loc1'] != 'S') & (data['loc1'] != 'T')]"
   ]
  },
  {
   "cell_type": "code",
   "execution_count": 60,
   "id": "49388ef0-ff70-42ec-93bf-31c54e14fd57",
   "metadata": {},
   "outputs": [
    {
     "data": {
      "text/plain": [
       "loc2\n",
       "21    499\n",
       "06    454\n",
       "74    329\n",
       "12    273\n",
       "14    246\n",
       "     ... \n",
       "43      1\n",
       "0T      1\n",
       "0L      1\n",
       "0C      1\n",
       "0N      1\n",
       "Name: count, Length: 105, dtype: int64"
      ]
     },
     "execution_count": 60,
     "metadata": {},
     "output_type": "execute_result"
    }
   ],
   "source": [
    "data['loc2'].value_counts()"
   ]
  },
  {
   "cell_type": "code",
   "execution_count": 61,
   "id": "bcea4267-5364-4c2a-9866-e9d12a05559d",
   "metadata": {},
   "outputs": [],
   "source": [
    "data['loc2'] = pd.to_numeric(data['loc2'], errors='coerce').fillna(0)"
   ]
  },
  {
   "cell_type": "code",
   "execution_count": 62,
   "id": "788db78a-1f55-4110-9e18-a7c9fbaeabe8",
   "metadata": {},
   "outputs": [
    {
     "data": {
      "text/plain": [
       "loc2\n",
       "21.0    499\n",
       "6.0     454\n",
       "74.0    329\n",
       "12.0    273\n",
       "14.0    246\n",
       "       ... \n",
       "82.0      9\n",
       "0.0       6\n",
       "62.0      5\n",
       "11.0      2\n",
       "43.0      1\n",
       "Name: count, Length: 100, dtype: int64"
      ]
     },
     "execution_count": 62,
     "metadata": {},
     "output_type": "execute_result"
    }
   ],
   "source": [
    "data['loc2'].value_counts()"
   ]
  },
  {
   "cell_type": "code",
   "execution_count": 63,
   "id": "09e2deaf-e839-4248-86fc-53809b2fc8de",
   "metadata": {},
   "outputs": [],
   "source": [
    "data = pd.get_dummies(data, columns=['dow'], drop_first=True)"
   ]
  },
  {
   "cell_type": "code",
   "execution_count": 64,
   "id": "e95774ec-02a4-4100-b733-7919cf3528a2",
   "metadata": {},
   "outputs": [],
   "source": [
    "correlation_matrix = data.corr()"
   ]
  },
  {
   "cell_type": "code",
   "execution_count": 65,
   "id": "b1b695f0-4fc3-4422-a3e7-88ed8c6dde9b",
   "metadata": {},
   "outputs": [
    {
     "data": {
      "image/png": "[encoded data removed]",
      "text/plain": [
       "<Figure size 1000x800 with 2 Axes>"
      ]
     },
     "metadata": {},
     "output_type": "display_data"
    }
   ],
   "source": [
    "plt.figure(figsize=(10, 8))\n",
    "sns.heatmap(correlation_matrix, annot=True, cmap='coolwarm', fmt=\".2f\", linewidths=0.5)\n",
    "plt.title('Матрица корреляции')\n",
    "plt.show()"
   ]
  },
  {
   "cell_type": "code",
   "execution_count": 66,
   "id": "f824634f-87f8-4819-a5e6-39bbe4a120dc",
   "metadata": {},
   "outputs": [],
   "source": [
    "X = data.drop('price', axis=1)\n",
    "y = data['price']"
   ]
  },
  {
   "cell_type": "code",
   "execution_count": 67,
   "id": "b1eb8c95-85c3-40d5-be3a-815dca598673",
   "metadata": {},
   "outputs": [],
   "source": [
    "X_tr, X_test, y_tr, y_test = train_test_split(X, y, test_size=0.2, random_state=42)"
   ]
  },
  {
   "cell_type": "code",
   "execution_count": 68,
   "id": "76692076-6a7b-4b59-a251-39d96af1f05e",
   "metadata": {},
   "outputs": [],
   "source": [
    "linear_reg = LinearRegression()"
   ]
  },
  {
   "cell_type": "code",
   "execution_count": 69,
   "id": "c4ddb01e-3984-44e9-a2f0-7faee48cc04c",
   "metadata": {},
   "outputs": [
    {
     "data": {
      "text/html": [
       "<style>#sk-container-id-5 {color: black;}#sk-container-id-5 pre{padding: 0;}#sk-container-id-5 div.sk-toggleable {background-color: white;}#sk-container-id-5 label.sk-toggleable__label {cursor: pointer;display: block;width: 100%;margin-bottom: 0;padding: 0.3em;box-sizing: border-box;text-align: center;}#sk-container-id-5 label.sk-toggleable__label-arrow:before {content: \"▸\";float: left;margin-right: 0.25em;color: #696969;}#sk-container-id-5 label.sk-toggleable__label-arrow:hover:before {color: black;}#sk-container-id-5 div.sk-estimator:hover label.sk-toggleable__label-arrow:before {color: black;}#sk-container-id-5 div.sk-toggleable__content {max-height: 0;max-width: 0;overflow: hidden;text-align: left;background-color: #f0f8ff;}#sk-container-id-5 div.sk-toggleable__content pre {margin: 0.2em;color: black;border-radius: 0.25em;background-color: #f0f8ff;}#sk-container-id-5 input.sk-toggleable__control:checked~div.sk-toggleable__content {max-height: 200px;max-width: 100%;overflow: auto;}#sk-container-id-5 input.sk-toggleable__control:checked~label.sk-toggleable__label-arrow:before {content: \"▾\";}#sk-container-id-5 div.sk-estimator input.sk-toggleable__control:checked~label.sk-toggleable__label {background-color: #d4ebff;}#sk-container-id-5 div.sk-label input.sk-toggleable__control:checked~label.sk-toggleable__label {background-color: #d4ebff;}#sk-container-id-5 input.sk-hidden--visually {border: 0;clip: rect(1px 1px 1px 1px);clip: rect(1px, 1px, 1px, 1px);height: 1px;margin: -1px;overflow: hidden;padding: 0;position: absolute;width: 1px;}#sk-container-id-5 div.sk-estimator {font-family: monospace;background-color: #f0f8ff;border: 1px dotted black;border-radius: 0.25em;box-sizing: border-box;margin-bottom: 0.5em;}#sk-container-id-5 div.sk-estimator:hover {background-color: #d4ebff;}#sk-container-id-5 div.sk-parallel-item::after {content: \"\";width: 100%;border-bottom: 1px solid gray;flex-grow: 1;}#sk-container-id-5 div.sk-label:hover label.sk-toggleable__label {background-color: #d4ebff;}#sk-container-id-5 div.sk-serial::before {content: \"\";position: absolute;border-left: 1px solid gray;box-sizing: border-box;top: 0;bottom: 0;left: 50%;z-index: 0;}#sk-container-id-5 div.sk-serial {display: flex;flex-direction: column;align-items: center;background-color: white;padding-right: 0.2em;padding-left: 0.2em;position: relative;}#sk-container-id-5 div.sk-item {position: relative;z-index: 1;}#sk-container-id-5 div.sk-parallel {display: flex;align-items: stretch;justify-content: center;background-color: white;position: relative;}#sk-container-id-5 div.sk-item::before, #sk-container-id-5 div.sk-parallel-item::before {content: \"\";position: absolute;border-left: 1px solid gray;box-sizing: border-box;top: 0;bottom: 0;left: 50%;z-index: -1;}#sk-container-id-5 div.sk-parallel-item {display: flex;flex-direction: column;z-index: 1;position: relative;background-color: white;}#sk-container-id-5 div.sk-parallel-item:first-child::after {align-self: flex-end;width: 50%;}#sk-container-id-5 div.sk-parallel-item:last-child::after {align-self: flex-start;width: 50%;}#sk-container-id-5 div.sk-parallel-item:only-child::after {width: 0;}#sk-container-id-5 div.sk-dashed-wrapped {border: 1px dashed gray;margin: 0 0.4em 0.5em 0.4em;box-sizing: border-box;padding-bottom: 0.4em;background-color: white;}#sk-container-id-5 div.sk-label label {font-family: monospace;font-weight: bold;display: inline-block;line-height: 1.2em;}#sk-container-id-5 div.sk-label-container {text-align: center;}#sk-container-id-5 div.sk-container {/* jupyter's `normalize.less` sets `[hidden] { display: none; }` but bootstrap.min.css set `[hidden] { display: none !important; }` so we also need the `!important` here to be able to override the default hidden behavior on the sphinx rendered scikit-learn.org. See: https://github.com/scikit-learn/scikit-learn/issues/21755 */display: inline-block !important;position: relative;}#sk-container-id-5 div.sk-text-repr-fallback {display: none;}</style><div id=\"sk-container-id-5\" class=\"sk-top-container\"><div class=\"sk-text-repr-fallback\"><pre>LinearRegression()</pre><b>In a Jupyter environment, please rerun this cell to show the HTML representation or trust the notebook. <br />On GitHub, the HTML representation is unable to render, please try loading this page with nbviewer.org.</b></div><div class=\"sk-container\" hidden><div class=\"sk-item\"><div class=\"sk-estimator sk-toggleable\"><input class=\"sk-toggleable__control sk-hidden--visually\" id=\"sk-estimator-id-7\" type=\"checkbox\" checked><label for=\"sk-estimator-id-7\" class=\"sk-toggleable__label sk-toggleable__label-arrow\">LinearRegression</label><div class=\"sk-toggleable__content\"><pre>LinearRegression()</pre></div></div></div></div></div>"
      ],
      "text/plain": [
       "LinearRegression()"
      ]
     },
     "execution_count": 69,
     "metadata": {},
     "output_type": "execute_result"
    }
   ],
   "source": [
    "linear_reg.fit(X_tr, y_train)"
   ]
  },
  {
   "cell_type": "code",
   "execution_count": 70,
   "id": "c3fe63ca-514c-47a7-889a-db65bad41ee1",
   "metadata": {},
   "outputs": [],
   "source": [
    "y_prediction_linear = linear_reg.predict(X_test)"
   ]
  },
  {
   "cell_type": "code",
   "execution_count": 71,
   "id": "b123175f-d559-45d7-bf37-0f4e4583bbdb",
   "metadata": {},
   "outputs": [],
   "source": [
    "mse_linear = mean_squared_error(y_test, y_prediction_linear)\n",
    "r2_linear = r2_score(y_test, y_prediction_linear)"
   ]
  },
  {
   "cell_type": "code",
   "execution_count": 73,
   "id": "c8f894a6-748c-472e-8ae9-b6ea556bc687",
   "metadata": {},
   "outputs": [
    {
     "name": "stdout",
     "output_type": "stream",
     "text": [
      "Linear Regression Performance:\n",
      "45249.7677938075\n",
      "0.5336307984357858\n"
     ]
    }
   ],
   "source": [
    "print(\"Linear Regression Performance:\")\n",
    "print(mse_linear)\n",
    "print(r2_linear)"
   ]
  },
  {
   "cell_type": "code",
   "execution_count": 124,
   "id": "25def1ba-41f4-4994-8df8-a5685280b62a",
   "metadata": {},
   "outputs": [],
   "source": [
    "rand_forest_reg = RandomForestRegressor(random_state=42)"
   ]
  },
  {
   "cell_type": "code",
   "execution_count": 125,
   "id": "bebe31cf-fd7b-497f-be8a-340583c1cb48",
   "metadata": {},
   "outputs": [
    {
     "data": {
      "text/html": [
       "<style>#sk-container-id-15 {color: black;}#sk-container-id-15 pre{padding: 0;}#sk-container-id-15 div.sk-toggleable {background-color: white;}#sk-container-id-15 label.sk-toggleable__label {cursor: pointer;display: block;width: 100%;margin-bottom: 0;padding: 0.3em;box-sizing: border-box;text-align: center;}#sk-container-id-15 label.sk-toggleable__label-arrow:before {content: \"▸\";float: left;margin-right: 0.25em;color: #696969;}#sk-container-id-15 label.sk-toggleable__label-arrow:hover:before {color: black;}#sk-container-id-15 div.sk-estimator:hover label.sk-toggleable__label-arrow:before {color: black;}#sk-container-id-15 div.sk-toggleable__content {max-height: 0;max-width: 0;overflow: hidden;text-align: left;background-color: #f0f8ff;}#sk-container-id-15 div.sk-toggleable__content pre {margin: 0.2em;color: black;border-radius: 0.25em;background-color: #f0f8ff;}#sk-container-id-15 input.sk-toggleable__control:checked~div.sk-toggleable__content {max-height: 200px;max-width: 100%;overflow: auto;}#sk-container-id-15 input.sk-toggleable__control:checked~label.sk-toggleable__label-arrow:before {content: \"▾\";}#sk-container-id-15 div.sk-estimator input.sk-toggleable__control:checked~label.sk-toggleable__label {background-color: #d4ebff;}#sk-container-id-15 div.sk-label input.sk-toggleable__control:checked~label.sk-toggleable__label {background-color: #d4ebff;}#sk-container-id-15 input.sk-hidden--visually {border: 0;clip: rect(1px 1px 1px 1px);clip: rect(1px, 1px, 1px, 1px);height: 1px;margin: -1px;overflow: hidden;padding: 0;position: absolute;width: 1px;}#sk-container-id-15 div.sk-estimator {font-family: monospace;background-color: #f0f8ff;border: 1px dotted black;border-radius: 0.25em;box-sizing: border-box;margin-bottom: 0.5em;}#sk-container-id-15 div.sk-estimator:hover {background-color: #d4ebff;}#sk-container-id-15 div.sk-parallel-item::after {content: \"\";width: 100%;border-bottom: 1px solid gray;flex-grow: 1;}#sk-container-id-15 div.sk-label:hover label.sk-toggleable__label {background-color: #d4ebff;}#sk-container-id-15 div.sk-serial::before {content: \"\";position: absolute;border-left: 1px solid gray;box-sizing: border-box;top: 0;bottom: 0;left: 50%;z-index: 0;}#sk-container-id-15 div.sk-serial {display: flex;flex-direction: column;align-items: center;background-color: white;padding-right: 0.2em;padding-left: 0.2em;position: relative;}#sk-container-id-15 div.sk-item {position: relative;z-index: 1;}#sk-container-id-15 div.sk-parallel {display: flex;align-items: stretch;justify-content: center;background-color: white;position: relative;}#sk-container-id-15 div.sk-item::before, #sk-container-id-15 div.sk-parallel-item::before {content: \"\";position: absolute;border-left: 1px solid gray;box-sizing: border-box;top: 0;bottom: 0;left: 50%;z-index: -1;}#sk-container-id-15 div.sk-parallel-item {display: flex;flex-direction: column;z-index: 1;position: relative;background-color: white;}#sk-container-id-15 div.sk-parallel-item:first-child::after {align-self: flex-end;width: 50%;}#sk-container-id-15 div.sk-parallel-item:last-child::after {align-self: flex-start;width: 50%;}#sk-container-id-15 div.sk-parallel-item:only-child::after {width: 0;}#sk-container-id-15 div.sk-dashed-wrapped {border: 1px dashed gray;margin: 0 0.4em 0.5em 0.4em;box-sizing: border-box;padding-bottom: 0.4em;background-color: white;}#sk-container-id-15 div.sk-label label {font-family: monospace;font-weight: bold;display: inline-block;line-height: 1.2em;}#sk-container-id-15 div.sk-label-container {text-align: center;}#sk-container-id-15 div.sk-container {/* jupyter's `normalize.less` sets `[hidden] { display: none; }` but bootstrap.min.css set `[hidden] { display: none !important; }` so we also need the `!important` here to be able to override the default hidden behavior on the sphinx rendered scikit-learn.org. See: https://github.com/scikit-learn/scikit-learn/issues/21755 */display: inline-block !important;position: relative;}#sk-container-id-15 div.sk-text-repr-fallback {display: none;}</style><div id=\"sk-container-id-15\" class=\"sk-top-container\"><div class=\"sk-text-repr-fallback\"><pre>RandomForestRegressor(random_state=42)</pre><b>In a Jupyter environment, please rerun this cell to show the HTML representation or trust the notebook. <br />On GitHub, the HTML representation is unable to render, please try loading this page with nbviewer.org.</b></div><div class=\"sk-container\" hidden><div class=\"sk-item\"><div class=\"sk-estimator sk-toggleable\"><input class=\"sk-toggleable__control sk-hidden--visually\" id=\"sk-estimator-id-21\" type=\"checkbox\" checked><label for=\"sk-estimator-id-21\" class=\"sk-toggleable__label sk-toggleable__label-arrow\">RandomForestRegressor</label><div class=\"sk-toggleable__content\"><pre>RandomForestRegressor(random_state=42)</pre></div></div></div></div></div>"
      ],
      "text/plain": [
       "RandomForestRegressor(random_state=42)"
      ]
     },
     "execution_count": 125,
     "metadata": {},
     "output_type": "execute_result"
    }
   ],
   "source": [
    "rand_forest_reg.fit(X_tr, y_tr)"
   ]
  },
  {
   "cell_type": "code",
   "execution_count": 126,
   "id": "9d76e8c0-69ef-4424-be25-83c27176ee93",
   "metadata": {},
   "outputs": [],
   "source": [
    "y_pred_rand_forest = rand_forest_reg.predict(X_test)"
   ]
  },
  {
   "cell_type": "code",
   "execution_count": 127,
   "id": "eedca3ec-4818-49c6-b66d-60a3492bd0fc",
   "metadata": {},
   "outputs": [],
   "source": [
    "mse_rand_forest = mean_squared_error(y_test, y_pred_rand_forest)\n",
    "r2_rand_forest = r2_score(y_test, y_pred_rand_forest)"
   ]
  },
  {
   "cell_type": "code",
   "execution_count": 128,
   "id": "bb42c25f-6424-49ff-9e63-3bebbf315fa3",
   "metadata": {},
   "outputs": [
    {
     "name": "stdout",
     "output_type": "stream",
     "text": [
      "\n",
      "Random Forest Regression Performance:\n",
      "30374.907335916505\n",
      "0.686939359636294\n"
     ]
    }
   ],
   "source": [
    "print(\"\\nRandom Forest Regression Performance:\")\n",
    "print(mse_rand_forest)\n",
    "print(r2_rand_forest)"
   ]
  },
  {
   "cell_type": "code",
   "execution_count": null,
   "id": "3ad4289d",
   "metadata": {},
   "outputs": [],
   "source": []
  },
  {
   "cell_type": "code",
   "execution_count": null,
   "id": "539e5c7c",
   "metadata": {},
   "outputs": [],
   "source": []
  },
  {
   "cell_type": "code",
   "execution_count": null,
   "id": "09b36114-cb93-4148-8bec-420e5bba6d02",
   "metadata": {},
   "outputs": [],
   "source": []
  },
  {
   "cell_type": "code",
   "execution_count": 129,
   "id": "e9c68562",
   "metadata": {},
   "outputs": [],
   "source": [
    "from sklearn.model_selection import GridSearchCV"
   ]
  },
  {
   "cell_type": "code",
   "execution_count": 130,
   "id": "9c500064",
   "metadata": {},
   "outputs": [],
   "source": [
    "params = {'n_estimators': [100, 150],\n",
    "          'max_depth': [5,7,9],\n",
    "          'max_features': [4,6,8],\n",
    "         }"
   ]
  },
  {
   "cell_type": "code",
   "execution_count": 131,
   "id": "3c21845f",
   "metadata": {},
   "outputs": [],
   "source": [
    "rf_search = GridSearchCV(estimator=rand_forest_reg, param_grid=params, scoring='neg_mean_squared_error', cv=3)"
   ]
  },
  {
   "cell_type": "code",
   "execution_count": 132,
   "id": "3dc24f76",
   "metadata": {},
   "outputs": [
    {
     "data": {
      "text/html": [
       "<style>#sk-container-id-16 {color: black;}#sk-container-id-16 pre{padding: 0;}#sk-container-id-16 div.sk-toggleable {background-color: white;}#sk-container-id-16 label.sk-toggleable__label {cursor: pointer;display: block;width: 100%;margin-bottom: 0;padding: 0.3em;box-sizing: border-box;text-align: center;}#sk-container-id-16 label.sk-toggleable__label-arrow:before {content: \"▸\";float: left;margin-right: 0.25em;color: #696969;}#sk-container-id-16 label.sk-toggleable__label-arrow:hover:before {color: black;}#sk-container-id-16 div.sk-estimator:hover label.sk-toggleable__label-arrow:before {color: black;}#sk-container-id-16 div.sk-toggleable__content {max-height: 0;max-width: 0;overflow: hidden;text-align: left;background-color: #f0f8ff;}#sk-container-id-16 div.sk-toggleable__content pre {margin: 0.2em;color: black;border-radius: 0.25em;background-color: #f0f8ff;}#sk-container-id-16 input.sk-toggleable__control:checked~div.sk-toggleable__content {max-height: 200px;max-width: 100%;overflow: auto;}#sk-container-id-16 input.sk-toggleable__control:checked~label.sk-toggleable__label-arrow:before {content: \"▾\";}#sk-container-id-16 div.sk-estimator input.sk-toggleable__control:checked~label.sk-toggleable__label {background-color: #d4ebff;}#sk-container-id-16 div.sk-label input.sk-toggleable__control:checked~label.sk-toggleable__label {background-color: #d4ebff;}#sk-container-id-16 input.sk-hidden--visually {border: 0;clip: rect(1px 1px 1px 1px);clip: rect(1px, 1px, 1px, 1px);height: 1px;margin: -1px;overflow: hidden;padding: 0;position: absolute;width: 1px;}#sk-container-id-16 div.sk-estimator {font-family: monospace;background-color: #f0f8ff;border: 1px dotted black;border-radius: 0.25em;box-sizing: border-box;margin-bottom: 0.5em;}#sk-container-id-16 div.sk-estimator:hover {background-color: #d4ebff;}#sk-container-id-16 div.sk-parallel-item::after {content: \"\";width: 100%;border-bottom: 1px solid gray;flex-grow: 1;}#sk-container-id-16 div.sk-label:hover label.sk-toggleable__label {background-color: #d4ebff;}#sk-container-id-16 div.sk-serial::before {content: \"\";position: absolute;border-left: 1px solid gray;box-sizing: border-box;top: 0;bottom: 0;left: 50%;z-index: 0;}#sk-container-id-16 div.sk-serial {display: flex;flex-direction: column;align-items: center;background-color: white;padding-right: 0.2em;padding-left: 0.2em;position: relative;}#sk-container-id-16 div.sk-item {position: relative;z-index: 1;}#sk-container-id-16 div.sk-parallel {display: flex;align-items: stretch;justify-content: center;background-color: white;position: relative;}#sk-container-id-16 div.sk-item::before, #sk-container-id-16 div.sk-parallel-item::before {content: \"\";position: absolute;border-left: 1px solid gray;box-sizing: border-box;top: 0;bottom: 0;left: 50%;z-index: -1;}#sk-container-id-16 div.sk-parallel-item {display: flex;flex-direction: column;z-index: 1;position: relative;background-color: white;}#sk-container-id-16 div.sk-parallel-item:first-child::after {align-self: flex-end;width: 50%;}#sk-container-id-16 div.sk-parallel-item:last-child::after {align-self: flex-start;width: 50%;}#sk-container-id-16 div.sk-parallel-item:only-child::after {width: 0;}#sk-container-id-16 div.sk-dashed-wrapped {border: 1px dashed gray;margin: 0 0.4em 0.5em 0.4em;box-sizing: border-box;padding-bottom: 0.4em;background-color: white;}#sk-container-id-16 div.sk-label label {font-family: monospace;font-weight: bold;display: inline-block;line-height: 1.2em;}#sk-container-id-16 div.sk-label-container {text-align: center;}#sk-container-id-16 div.sk-container {/* jupyter's `normalize.less` sets `[hidden] { display: none; }` but bootstrap.min.css set `[hidden] { display: none !important; }` so we also need the `!important` here to be able to override the default hidden behavior on the sphinx rendered scikit-learn.org. See: https://github.com/scikit-learn/scikit-learn/issues/21755 */display: inline-block !important;position: relative;}#sk-container-id-16 div.sk-text-repr-fallback {display: none;}</style><div id=\"sk-container-id-16\" class=\"sk-top-container\"><div class=\"sk-text-repr-fallback\"><pre>GridSearchCV(cv=3, estimator=RandomForestRegressor(random_state=42),\n",
       "             param_grid={&#x27;max_depth&#x27;: [5, 7, 9], &#x27;max_features&#x27;: [4, 6, 8],\n",
       "                         &#x27;n_estimators&#x27;: [100, 150]},\n",
       "             scoring=&#x27;neg_mean_squared_error&#x27;)</pre><b>In a Jupyter environment, please rerun this cell to show the HTML representation or trust the notebook. <br />On GitHub, the HTML representation is unable to render, please try loading this page with nbviewer.org.</b></div><div class=\"sk-container\" hidden><div class=\"sk-item sk-dashed-wrapped\"><div class=\"sk-label-container\"><div class=\"sk-label sk-toggleable\"><input class=\"sk-toggleable__control sk-hidden--visually\" id=\"sk-estimator-id-22\" type=\"checkbox\" ><label for=\"sk-estimator-id-22\" class=\"sk-toggleable__label sk-toggleable__label-arrow\">GridSearchCV</label><div class=\"sk-toggleable__content\"><pre>GridSearchCV(cv=3, estimator=RandomForestRegressor(random_state=42),\n",
       "             param_grid={&#x27;max_depth&#x27;: [5, 7, 9], &#x27;max_features&#x27;: [4, 6, 8],\n",
       "                         &#x27;n_estimators&#x27;: [100, 150]},\n",
       "             scoring=&#x27;neg_mean_squared_error&#x27;)</pre></div></div></div><div class=\"sk-parallel\"><div class=\"sk-parallel-item\"><div class=\"sk-item\"><div class=\"sk-label-container\"><div class=\"sk-label sk-toggleable\"><input class=\"sk-toggleable__control sk-hidden--visually\" id=\"sk-estimator-id-23\" type=\"checkbox\" ><label for=\"sk-estimator-id-23\" class=\"sk-toggleable__label sk-toggleable__label-arrow\">estimator: RandomForestRegressor</label><div class=\"sk-toggleable__content\"><pre>RandomForestRegressor(random_state=42)</pre></div></div></div><div class=\"sk-serial\"><div class=\"sk-item\"><div class=\"sk-estimator sk-toggleable\"><input class=\"sk-toggleable__control sk-hidden--visually\" id=\"sk-estimator-id-24\" type=\"checkbox\" ><label for=\"sk-estimator-id-24\" class=\"sk-toggleable__label sk-toggleable__label-arrow\">RandomForestRegressor</label><div class=\"sk-toggleable__content\"><pre>RandomForestRegressor(random_state=42)</pre></div></div></div></div></div></div></div></div></div></div>"
      ],
      "text/plain": [
       "GridSearchCV(cv=3, estimator=RandomForestRegressor(random_state=42),\n",
       "             param_grid={'max_depth': [5, 7, 9], 'max_features': [4, 6, 8],\n",
       "                         'n_estimators': [100, 150]},\n",
       "             scoring='neg_mean_squared_error')"
      ]
     },
     "execution_count": 132,
     "metadata": {},
     "output_type": "execute_result"
    }
   ],
   "source": [
    "rf_search.fit(X_tr, y_train)"
   ]
  },
  {
   "cell_type": "code",
   "execution_count": 133,
   "id": "445a43b7",
   "metadata": {},
   "outputs": [],
   "source": [
    "prediction =rf_search.predict(X_test)"
   ]
  },
  {
   "cell_type": "code",
   "execution_count": 134,
   "id": "cfc7824e",
   "metadata": {},
   "outputs": [],
   "source": [
    "best_param=rf_search.best_params_"
   ]
  },
  {
   "cell_type": "code",
   "execution_count": 135,
   "id": "022a4d6f",
   "metadata": {},
   "outputs": [
    {
     "data": {
      "text/plain": [
       "{'max_depth': 9, 'max_features': 6, 'n_estimators': 100}"
      ]
     },
     "execution_count": 135,
     "metadata": {},
     "output_type": "execute_result"
    }
   ],
   "source": [
    "best_param"
   ]
  },
  {
   "cell_type": "code",
   "execution_count": 136,
   "id": "c49b2c5d",
   "metadata": {},
   "outputs": [],
   "source": [
    "best_rf_reg_estim=rf_search.best_estimator_"
   ]
  },
  {
   "cell_type": "code",
   "execution_count": 137,
   "id": "a59d3bae",
   "metadata": {},
   "outputs": [
    {
     "data": {
      "text/html": [
       "<style>#sk-container-id-17 {color: black;}#sk-container-id-17 pre{padding: 0;}#sk-container-id-17 div.sk-toggleable {background-color: white;}#sk-container-id-17 label.sk-toggleable__label {cursor: pointer;display: block;width: 100%;margin-bottom: 0;padding: 0.3em;box-sizing: border-box;text-align: center;}#sk-container-id-17 label.sk-toggleable__label-arrow:before {content: \"▸\";float: left;margin-right: 0.25em;color: #696969;}#sk-container-id-17 label.sk-toggleable__label-arrow:hover:before {color: black;}#sk-container-id-17 div.sk-estimator:hover label.sk-toggleable__label-arrow:before {color: black;}#sk-container-id-17 div.sk-toggleable__content {max-height: 0;max-width: 0;overflow: hidden;text-align: left;background-color: #f0f8ff;}#sk-container-id-17 div.sk-toggleable__content pre {margin: 0.2em;color: black;border-radius: 0.25em;background-color: #f0f8ff;}#sk-container-id-17 input.sk-toggleable__control:checked~div.sk-toggleable__content {max-height: 200px;max-width: 100%;overflow: auto;}#sk-container-id-17 input.sk-toggleable__control:checked~label.sk-toggleable__label-arrow:before {content: \"▾\";}#sk-container-id-17 div.sk-estimator input.sk-toggleable__control:checked~label.sk-toggleable__label {background-color: #d4ebff;}#sk-container-id-17 div.sk-label input.sk-toggleable__control:checked~label.sk-toggleable__label {background-color: #d4ebff;}#sk-container-id-17 input.sk-hidden--visually {border: 0;clip: rect(1px 1px 1px 1px);clip: rect(1px, 1px, 1px, 1px);height: 1px;margin: -1px;overflow: hidden;padding: 0;position: absolute;width: 1px;}#sk-container-id-17 div.sk-estimator {font-family: monospace;background-color: #f0f8ff;border: 1px dotted black;border-radius: 0.25em;box-sizing: border-box;margin-bottom: 0.5em;}#sk-container-id-17 div.sk-estimator:hover {background-color: #d4ebff;}#sk-container-id-17 div.sk-parallel-item::after {content: \"\";width: 100%;border-bottom: 1px solid gray;flex-grow: 1;}#sk-container-id-17 div.sk-label:hover label.sk-toggleable__label {background-color: #d4ebff;}#sk-container-id-17 div.sk-serial::before {content: \"\";position: absolute;border-left: 1px solid gray;box-sizing: border-box;top: 0;bottom: 0;left: 50%;z-index: 0;}#sk-container-id-17 div.sk-serial {display: flex;flex-direction: column;align-items: center;background-color: white;padding-right: 0.2em;padding-left: 0.2em;position: relative;}#sk-container-id-17 div.sk-item {position: relative;z-index: 1;}#sk-container-id-17 div.sk-parallel {display: flex;align-items: stretch;justify-content: center;background-color: white;position: relative;}#sk-container-id-17 div.sk-item::before, #sk-container-id-17 div.sk-parallel-item::before {content: \"\";position: absolute;border-left: 1px solid gray;box-sizing: border-box;top: 0;bottom: 0;left: 50%;z-index: -1;}#sk-container-id-17 div.sk-parallel-item {display: flex;flex-direction: column;z-index: 1;position: relative;background-color: white;}#sk-container-id-17 div.sk-parallel-item:first-child::after {align-self: flex-end;width: 50%;}#sk-container-id-17 div.sk-parallel-item:last-child::after {align-self: flex-start;width: 50%;}#sk-container-id-17 div.sk-parallel-item:only-child::after {width: 0;}#sk-container-id-17 div.sk-dashed-wrapped {border: 1px dashed gray;margin: 0 0.4em 0.5em 0.4em;box-sizing: border-box;padding-bottom: 0.4em;background-color: white;}#sk-container-id-17 div.sk-label label {font-family: monospace;font-weight: bold;display: inline-block;line-height: 1.2em;}#sk-container-id-17 div.sk-label-container {text-align: center;}#sk-container-id-17 div.sk-container {/* jupyter's `normalize.less` sets `[hidden] { display: none; }` but bootstrap.min.css set `[hidden] { display: none !important; }` so we also need the `!important` here to be able to override the default hidden behavior on the sphinx rendered scikit-learn.org. See: https://github.com/scikit-learn/scikit-learn/issues/21755 */display: inline-block !important;position: relative;}#sk-container-id-17 div.sk-text-repr-fallback {display: none;}</style><div id=\"sk-container-id-17\" class=\"sk-top-container\"><div class=\"sk-text-repr-fallback\"><pre>RandomForestRegressor(max_depth=9, max_features=6, random_state=42)</pre><b>In a Jupyter environment, please rerun this cell to show the HTML representation or trust the notebook. <br />On GitHub, the HTML representation is unable to render, please try loading this page with nbviewer.org.</b></div><div class=\"sk-container\" hidden><div class=\"sk-item\"><div class=\"sk-estimator sk-toggleable\"><input class=\"sk-toggleable__control sk-hidden--visually\" id=\"sk-estimator-id-25\" type=\"checkbox\" checked><label for=\"sk-estimator-id-25\" class=\"sk-toggleable__label sk-toggleable__label-arrow\">RandomForestRegressor</label><div class=\"sk-toggleable__content\"><pre>RandomForestRegressor(max_depth=9, max_features=6, random_state=42)</pre></div></div></div></div></div>"
      ],
      "text/plain": [
       "RandomForestRegressor(max_depth=9, max_features=6, random_state=42)"
      ]
     },
     "execution_count": 137,
     "metadata": {},
     "output_type": "execute_result"
    }
   ],
   "source": [
    "best_rf_reg_estim"
   ]
  },
  {
   "cell_type": "code",
   "execution_count": 138,
   "id": "382af20c",
   "metadata": {},
   "outputs": [
    {
     "data": {
      "text/html": [
       "<style>#sk-container-id-18 {color: black;}#sk-container-id-18 pre{padding: 0;}#sk-container-id-18 div.sk-toggleable {background-color: white;}#sk-container-id-18 label.sk-toggleable__label {cursor: pointer;display: block;width: 100%;margin-bottom: 0;padding: 0.3em;box-sizing: border-box;text-align: center;}#sk-container-id-18 label.sk-toggleable__label-arrow:before {content: \"▸\";float: left;margin-right: 0.25em;color: #696969;}#sk-container-id-18 label.sk-toggleable__label-arrow:hover:before {color: black;}#sk-container-id-18 div.sk-estimator:hover label.sk-toggleable__label-arrow:before {color: black;}#sk-container-id-18 div.sk-toggleable__content {max-height: 0;max-width: 0;overflow: hidden;text-align: left;background-color: #f0f8ff;}#sk-container-id-18 div.sk-toggleable__content pre {margin: 0.2em;color: black;border-radius: 0.25em;background-color: #f0f8ff;}#sk-container-id-18 input.sk-toggleable__control:checked~div.sk-toggleable__content {max-height: 200px;max-width: 100%;overflow: auto;}#sk-container-id-18 input.sk-toggleable__control:checked~label.sk-toggleable__label-arrow:before {content: \"▾\";}#sk-container-id-18 div.sk-estimator input.sk-toggleable__control:checked~label.sk-toggleable__label {background-color: #d4ebff;}#sk-container-id-18 div.sk-label input.sk-toggleable__control:checked~label.sk-toggleable__label {background-color: #d4ebff;}#sk-container-id-18 input.sk-hidden--visually {border: 0;clip: rect(1px 1px 1px 1px);clip: rect(1px, 1px, 1px, 1px);height: 1px;margin: -1px;overflow: hidden;padding: 0;position: absolute;width: 1px;}#sk-container-id-18 div.sk-estimator {font-family: monospace;background-color: #f0f8ff;border: 1px dotted black;border-radius: 0.25em;box-sizing: border-box;margin-bottom: 0.5em;}#sk-container-id-18 div.sk-estimator:hover {background-color: #d4ebff;}#sk-container-id-18 div.sk-parallel-item::after {content: \"\";width: 100%;border-bottom: 1px solid gray;flex-grow: 1;}#sk-container-id-18 div.sk-label:hover label.sk-toggleable__label {background-color: #d4ebff;}#sk-container-id-18 div.sk-serial::before {content: \"\";position: absolute;border-left: 1px solid gray;box-sizing: border-box;top: 0;bottom: 0;left: 50%;z-index: 0;}#sk-container-id-18 div.sk-serial {display: flex;flex-direction: column;align-items: center;background-color: white;padding-right: 0.2em;padding-left: 0.2em;position: relative;}#sk-container-id-18 div.sk-item {position: relative;z-index: 1;}#sk-container-id-18 div.sk-parallel {display: flex;align-items: stretch;justify-content: center;background-color: white;position: relative;}#sk-container-id-18 div.sk-item::before, #sk-container-id-18 div.sk-parallel-item::before {content: \"\";position: absolute;border-left: 1px solid gray;box-sizing: border-box;top: 0;bottom: 0;left: 50%;z-index: -1;}#sk-container-id-18 div.sk-parallel-item {display: flex;flex-direction: column;z-index: 1;position: relative;background-color: white;}#sk-container-id-18 div.sk-parallel-item:first-child::after {align-self: flex-end;width: 50%;}#sk-container-id-18 div.sk-parallel-item:last-child::after {align-self: flex-start;width: 50%;}#sk-container-id-18 div.sk-parallel-item:only-child::after {width: 0;}#sk-container-id-18 div.sk-dashed-wrapped {border: 1px dashed gray;margin: 0 0.4em 0.5em 0.4em;box-sizing: border-box;padding-bottom: 0.4em;background-color: white;}#sk-container-id-18 div.sk-label label {font-family: monospace;font-weight: bold;display: inline-block;line-height: 1.2em;}#sk-container-id-18 div.sk-label-container {text-align: center;}#sk-container-id-18 div.sk-container {/* jupyter's `normalize.less` sets `[hidden] { display: none; }` but bootstrap.min.css set `[hidden] { display: none !important; }` so we also need the `!important` here to be able to override the default hidden behavior on the sphinx rendered scikit-learn.org. See: https://github.com/scikit-learn/scikit-learn/issues/21755 */display: inline-block !important;position: relative;}#sk-container-id-18 div.sk-text-repr-fallback {display: none;}</style><div id=\"sk-container-id-18\" class=\"sk-top-container\"><div class=\"sk-text-repr-fallback\"><pre>RandomForestRegressor(max_depth=9, max_features=6, random_state=42)</pre><b>In a Jupyter environment, please rerun this cell to show the HTML representation or trust the notebook. <br />On GitHub, the HTML representation is unable to render, please try loading this page with nbviewer.org.</b></div><div class=\"sk-container\" hidden><div class=\"sk-item\"><div class=\"sk-estimator sk-toggleable\"><input class=\"sk-toggleable__control sk-hidden--visually\" id=\"sk-estimator-id-26\" type=\"checkbox\" checked><label for=\"sk-estimator-id-26\" class=\"sk-toggleable__label sk-toggleable__label-arrow\">RandomForestRegressor</label><div class=\"sk-toggleable__content\"><pre>RandomForestRegressor(max_depth=9, max_features=6, random_state=42)</pre></div></div></div></div></div>"
      ],
      "text/plain": [
       "RandomForestRegressor(max_depth=9, max_features=6, random_state=42)"
      ]
     },
     "execution_count": 138,
     "metadata": {},
     "output_type": "execute_result"
    }
   ],
   "source": [
    "best_rf_reg_estim.fit(X_tr, y_train)"
   ]
  },
  {
   "cell_type": "code",
   "execution_count": 139,
   "id": "0972174c",
   "metadata": {},
   "outputs": [],
   "source": [
    "y_pred_best_rf_reg_estim=best_rf_reg_estim.predict(X_test)"
   ]
  },
  {
   "cell_type": "code",
   "execution_count": 140,
   "id": "d014c683",
   "metadata": {},
   "outputs": [],
   "source": [
    "mse_best_rf_reg_estim = mean_squared_error(y_test, y_pred_best_rf_reg_estim)\n",
    "r2_best_rf_reg_estim = r2_score(y_test, y_pred_best_rf_reg_estim)"
   ]
  },
  {
   "cell_type": "code",
   "execution_count": 141,
   "id": "54f420a7",
   "metadata": {},
   "outputs": [
    {
     "name": "stdout",
     "output_type": "stream",
     "text": [
      "Best Random Forest Regression Performance (according to best estim):\n",
      "33204.231346380446\n",
      "0.6577787772938779\n"
     ]
    }
   ],
   "source": [
    "print(\"Best Random Forest Regression Performance (according to best estim):\")\n",
    "print(mse_best_rf_reg_estim)\n",
    "print(r2_best_rf_reg_estim)"
   ]
  },
  {
   "cell_type": "code",
   "execution_count": 142,
   "id": "bd7552f2",
   "metadata": {},
   "outputs": [],
   "source": [
    "feature_importances = best_rf_reg_estim.feature_importances_"
   ]
  },
  {
   "cell_type": "code",
   "execution_count": 143,
   "id": "9cc063fa",
   "metadata": {},
   "outputs": [],
   "source": [
    "feature_importance_df = pd.DataFrame({'Feature': X.columns, 'Importance': feature_importances})"
   ]
  },
  {
   "cell_type": "code",
   "execution_count": 144,
   "id": "b00d6f43",
   "metadata": {},
   "outputs": [],
   "source": [
    "feature_importance_df = feature_importance_df.sort_values(by='Importance', ascending=False)"
   ]
  },
  {
   "cell_type": "code",
   "execution_count": 145,
   "id": "60d27254",
   "metadata": {},
   "outputs": [
    {
     "data": {
      "image/png": "[encoded data removed]",
      "text/plain": [
       "<Figure size 1000x600 with 1 Axes>"
      ]
     },
     "metadata": {},
     "output_type": "display_data"
    }
   ],
   "source": [
    "plt.figure(figsize=(10, 6))\n",
    "sns.barplot(x='Importance', y='Feature', data=feature_importance_df)\n",
    "plt.title('Feature Importance')\n",
    "plt.xlabel('Importance')\n",
    "plt.ylabel('Feature')\n",
    "plt.show()"
   ]
  },
  {
   "cell_type": "code",
   "execution_count": null,
   "id": "b488f9ad",
   "metadata": {},
   "outputs": [],
   "source": [
    "Я cначалa делала базовый анализа данных, узнавала есть ли  пропущенные данные. А когда не получилось \n",
    "работать с categorical данные, преобразовала их в numerical. \n",
    "\n",
    "Чтобы понять перформанс моделя машинного обучения использовала \n",
    "MSE и R2. \n",
    "Linear Regression Performance:\n",
    "45249.7677938075\n",
    "0.5336307984357858\n",
    "\n",
    "Чтобы улучшить перформанс использовала модель случайного леса с гиперпараметрами \n",
    "(GridSearchCV). Затем  best_estimator_ показал какие именно гиперпараметры являются наилучшими.\n",
    "С наилучшими параметрами прогнозировала данные и посчитала перформанс этой последней модели.\n",
    "Модель случайного леса дала более точные значения MSE и R2 на тестовом наборе данных.\n",
    "\n",
    "Best Random Forest Regression Performance (according to best estim):\n",
    "33204.231346380446\n",
    "0.6577787772938779.\n",
    "\n",
    "Если сравнить модели, mse у последней модели на 12000 меньше чем mse линейной регрессий. \n",
    "Но r2 больше оказалось у первой модели, для этого мне кажется надо использовать \n",
    "случайно сгенерированные параметры, затем высчитать best_params_."
   ]
  }
 ],
 "metadata": {
  "kernelspec": {
   "display_name": "Python 3 (ipykernel)",
   "language": "python",
   "name": "python3"
  },
  "language_info": {
   "codemirror_mode": {
    "name": "ipython",
    "version": 3
   },
   "file_extension": ".py",
   "mimetype": "text/x-python",
   "name": "python",
   "nbconvert_exporter": "python",
   "pygments_lexer": "ipython3",
   "version": "3.11.5"
  }
 },
 "nbformat": 4,
 "nbformat_minor": 5
}
